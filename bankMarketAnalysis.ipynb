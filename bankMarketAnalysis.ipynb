{
  "cells": [
    {
      "cell_type": "markdown",
      "metadata": {
        "id": "ADMme07SpF1U"
      },
      "source": [
        "**Summary:**\n",
        "\n",
        "The data is related with direct marketing campaigns of a Portuguese banking institution, based on phone calls (Moro, Cortez, and Rita 2014).The goal of the campaigns were to get the clients to subscribe to a term deposit. There are 20 input variables and 1 binary output variable (y) that indicates whether the client subscribed to a term deposit with values ‘yes’, ‘no’. \n",
        "\n",
        "The input variables can be divided into four categories:\n",
        "\n",
        "* bank client data\n",
        "* data related to last contact of current campaign \n",
        "* social and economic context attributes \n",
        "* other attributes.\n",
        "\n",
        "**Bank client data** contains variables containing information about the client. It includes variables indicating age, job, marital status, education, whether they have credit in default, whether they have a housing loan, whether they have a personal loan.\n",
        "\n",
        "**Data related to the last contact of the current campaign** contain variables indicating the mode of communication, month of last communication, day of week when the last contact was made and the last call duration.\n",
        "\n",
        "**Social and economic context attributes** contain variables with the quarterly employment variation rate, monthly consumer price index, monthly consumer confidence index, number of employees and the euribor 3 month rate.\n",
        "\n",
        "**Other attributes** include number of previous contacts with the client during the current campaign, number of days since the last contact for the previous campaign, number of contacts performed before the current campaign for the client and the outcome of the previous marketing campaign."
      ]
    },
    {
      "cell_type": "markdown",
      "metadata": {
        "id": "b_T9Z1S5Vxrg"
      },
      "source": [
        "# **Import Libraries**\n",
        "\n"
      ]
    },
    {
      "cell_type": "code",
      "execution_count": 1,
      "metadata": {
        "id": "O57Lv0AmDQdx"
      },
      "outputs": [],
      "source": [
        "import pandas as pd\n",
        "import numpy as np\n",
        "import matplotlib.pyplot as plt\n",
        "import seaborn as sns\n",
        "import sklearn\n",
        "\n",
        "from sklearn.model_selection import train_test_split\n",
        "\n",
        "from sklearn.base import BaseEstimator, TransformerMixin\n",
        "from sklearn.pipeline import Pipeline, FeatureUnion\n",
        "\n",
        "from sklearn.preprocessing import OneHotEncoder, StandardScaler\n",
        "from sklearn.impute import SimpleImputer\n",
        "from imblearn.over_sampling import SMOTE\n",
        "\n",
        "from sklearn.metrics import accuracy_score, roc_auc_score, f1_score, precision_score, recall_score, classification_report, confusion_matrix,r2_score\n",
        "\n",
        "from sklearn.neighbors import KNeighborsClassifier\n",
        "from sklearn.ensemble import RandomForestClassifier\n",
        "from sklearn.tree import DecisionTreeClassifier\n",
        "\n",
        "from sklearn.model_selection import GridSearchCV\n",
        "\n",
        "import warnings\n",
        "warnings.filterwarnings('ignore')"
      ]
    },
    {
      "cell_type": "markdown",
      "metadata": {
        "id": "DM4Vnv9ZoznY"
      },
      "source": [
        "# **Loading Dataset**"
      ]
    },
    {
      "cell_type": "code",
      "execution_count": 2,
      "metadata": {
        "colab": {
          "base_uri": "https://localhost:8080/",
          "height": 300
        },
        "id": "K543_yQjV-V2",
        "outputId": "4ed70a9a-4790-4580-fec4-ecb9f8372e2b"
      },
      "outputs": [
        {
          "data": {
            "text/html": [
              "\n",
              "  <div id=\"df-71ad1ca9-eb4a-4c61-9360-8dbce6ca8dfe\">\n",
              "    <div class=\"colab-df-container\">\n",
              "      <div>\n",
              "<style scoped>\n",
              "    .dataframe tbody tr th:only-of-type {\n",
              "        vertical-align: middle;\n",
              "    }\n",
              "\n",
              "    .dataframe tbody tr th {\n",
              "        vertical-align: top;\n",
              "    }\n",
              "\n",
              "    .dataframe thead th {\n",
              "        text-align: right;\n",
              "    }\n",
              "</style>\n",
              "<table border=\"1\" class=\"dataframe\">\n",
              "  <thead>\n",
              "    <tr style=\"text-align: right;\">\n",
              "      <th></th>\n",
              "      <th>age</th>\n",
              "      <th>job</th>\n",
              "      <th>marital</th>\n",
              "      <th>education</th>\n",
              "      <th>default</th>\n",
              "      <th>housing</th>\n",
              "      <th>loan</th>\n",
              "      <th>contact</th>\n",
              "      <th>month</th>\n",
              "      <th>day_of_week</th>\n",
              "      <th>...</th>\n",
              "      <th>campaign</th>\n",
              "      <th>pdays</th>\n",
              "      <th>previous</th>\n",
              "      <th>poutcome</th>\n",
              "      <th>emp.var.rate</th>\n",
              "      <th>cons.price.idx</th>\n",
              "      <th>cons.conf.idx</th>\n",
              "      <th>euribor3m</th>\n",
              "      <th>nr.employed</th>\n",
              "      <th>y</th>\n",
              "    </tr>\n",
              "  </thead>\n",
              "  <tbody>\n",
              "    <tr>\n",
              "      <th>0</th>\n",
              "      <td>56</td>\n",
              "      <td>housemaid</td>\n",
              "      <td>married</td>\n",
              "      <td>basic.4y</td>\n",
              "      <td>no</td>\n",
              "      <td>no</td>\n",
              "      <td>no</td>\n",
              "      <td>telephone</td>\n",
              "      <td>may</td>\n",
              "      <td>mon</td>\n",
              "      <td>...</td>\n",
              "      <td>1</td>\n",
              "      <td>999</td>\n",
              "      <td>0</td>\n",
              "      <td>nonexistent</td>\n",
              "      <td>1.1</td>\n",
              "      <td>93.994</td>\n",
              "      <td>-36.4</td>\n",
              "      <td>4.857</td>\n",
              "      <td>5191.0</td>\n",
              "      <td>0</td>\n",
              "    </tr>\n",
              "    <tr>\n",
              "      <th>1</th>\n",
              "      <td>57</td>\n",
              "      <td>services</td>\n",
              "      <td>married</td>\n",
              "      <td>high.school</td>\n",
              "      <td>unknown</td>\n",
              "      <td>no</td>\n",
              "      <td>no</td>\n",
              "      <td>telephone</td>\n",
              "      <td>may</td>\n",
              "      <td>mon</td>\n",
              "      <td>...</td>\n",
              "      <td>1</td>\n",
              "      <td>999</td>\n",
              "      <td>0</td>\n",
              "      <td>nonexistent</td>\n",
              "      <td>1.1</td>\n",
              "      <td>93.994</td>\n",
              "      <td>-36.4</td>\n",
              "      <td>4.857</td>\n",
              "      <td>5191.0</td>\n",
              "      <td>0</td>\n",
              "    </tr>\n",
              "    <tr>\n",
              "      <th>2</th>\n",
              "      <td>37</td>\n",
              "      <td>services</td>\n",
              "      <td>married</td>\n",
              "      <td>high.school</td>\n",
              "      <td>no</td>\n",
              "      <td>yes</td>\n",
              "      <td>no</td>\n",
              "      <td>telephone</td>\n",
              "      <td>may</td>\n",
              "      <td>mon</td>\n",
              "      <td>...</td>\n",
              "      <td>1</td>\n",
              "      <td>999</td>\n",
              "      <td>0</td>\n",
              "      <td>nonexistent</td>\n",
              "      <td>1.1</td>\n",
              "      <td>93.994</td>\n",
              "      <td>-36.4</td>\n",
              "      <td>4.857</td>\n",
              "      <td>5191.0</td>\n",
              "      <td>0</td>\n",
              "    </tr>\n",
              "    <tr>\n",
              "      <th>3</th>\n",
              "      <td>40</td>\n",
              "      <td>admin.</td>\n",
              "      <td>married</td>\n",
              "      <td>basic.6y</td>\n",
              "      <td>no</td>\n",
              "      <td>no</td>\n",
              "      <td>no</td>\n",
              "      <td>telephone</td>\n",
              "      <td>may</td>\n",
              "      <td>mon</td>\n",
              "      <td>...</td>\n",
              "      <td>1</td>\n",
              "      <td>999</td>\n",
              "      <td>0</td>\n",
              "      <td>nonexistent</td>\n",
              "      <td>1.1</td>\n",
              "      <td>93.994</td>\n",
              "      <td>-36.4</td>\n",
              "      <td>4.857</td>\n",
              "      <td>5191.0</td>\n",
              "      <td>0</td>\n",
              "    </tr>\n",
              "    <tr>\n",
              "      <th>4</th>\n",
              "      <td>56</td>\n",
              "      <td>services</td>\n",
              "      <td>married</td>\n",
              "      <td>high.school</td>\n",
              "      <td>no</td>\n",
              "      <td>no</td>\n",
              "      <td>yes</td>\n",
              "      <td>telephone</td>\n",
              "      <td>may</td>\n",
              "      <td>mon</td>\n",
              "      <td>...</td>\n",
              "      <td>1</td>\n",
              "      <td>999</td>\n",
              "      <td>0</td>\n",
              "      <td>nonexistent</td>\n",
              "      <td>1.1</td>\n",
              "      <td>93.994</td>\n",
              "      <td>-36.4</td>\n",
              "      <td>4.857</td>\n",
              "      <td>5191.0</td>\n",
              "      <td>0</td>\n",
              "    </tr>\n",
              "  </tbody>\n",
              "</table>\n",
              "<p>5 rows × 21 columns</p>\n",
              "</div>\n",
              "      <button class=\"colab-df-convert\" onclick=\"convertToInteractive('df-71ad1ca9-eb4a-4c61-9360-8dbce6ca8dfe')\"\n",
              "              title=\"Convert this dataframe to an interactive table.\"\n",
              "              style=\"display:none;\">\n",
              "        \n",
              "  <svg xmlns=\"http://www.w3.org/2000/svg\" height=\"24px\"viewBox=\"0 0 24 24\"\n",
              "       width=\"24px\">\n",
              "    <path d=\"M0 0h24v24H0V0z\" fill=\"none\"/>\n",
              "    <path d=\"M18.56 5.44l.94 2.06.94-2.06 2.06-.94-2.06-.94-.94-2.06-.94 2.06-2.06.94zm-11 1L8.5 8.5l.94-2.06 2.06-.94-2.06-.94L8.5 2.5l-.94 2.06-2.06.94zm10 10l.94 2.06.94-2.06 2.06-.94-2.06-.94-.94-2.06-.94 2.06-2.06.94z\"/><path d=\"M17.41 7.96l-1.37-1.37c-.4-.4-.92-.59-1.43-.59-.52 0-1.04.2-1.43.59L10.3 9.45l-7.72 7.72c-.78.78-.78 2.05 0 2.83L4 21.41c.39.39.9.59 1.41.59.51 0 1.02-.2 1.41-.59l7.78-7.78 2.81-2.81c.8-.78.8-2.07 0-2.86zM5.41 20L4 18.59l7.72-7.72 1.47 1.35L5.41 20z\"/>\n",
              "  </svg>\n",
              "      </button>\n",
              "      \n",
              "  <style>\n",
              "    .colab-df-container {\n",
              "      display:flex;\n",
              "      flex-wrap:wrap;\n",
              "      gap: 12px;\n",
              "    }\n",
              "\n",
              "    .colab-df-convert {\n",
              "      background-color: #E8F0FE;\n",
              "      border: none;\n",
              "      border-radius: 50%;\n",
              "      cursor: pointer;\n",
              "      display: none;\n",
              "      fill: #1967D2;\n",
              "      height: 32px;\n",
              "      padding: 0 0 0 0;\n",
              "      width: 32px;\n",
              "    }\n",
              "\n",
              "    .colab-df-convert:hover {\n",
              "      background-color: #E2EBFA;\n",
              "      box-shadow: 0px 1px 2px rgba(60, 64, 67, 0.3), 0px 1px 3px 1px rgba(60, 64, 67, 0.15);\n",
              "      fill: #174EA6;\n",
              "    }\n",
              "\n",
              "    [theme=dark] .colab-df-convert {\n",
              "      background-color: #3B4455;\n",
              "      fill: #D2E3FC;\n",
              "    }\n",
              "\n",
              "    [theme=dark] .colab-df-convert:hover {\n",
              "      background-color: #434B5C;\n",
              "      box-shadow: 0px 1px 3px 1px rgba(0, 0, 0, 0.15);\n",
              "      filter: drop-shadow(0px 1px 2px rgba(0, 0, 0, 0.3));\n",
              "      fill: #FFFFFF;\n",
              "    }\n",
              "  </style>\n",
              "\n",
              "      <script>\n",
              "        const buttonEl =\n",
              "          document.querySelector('#df-71ad1ca9-eb4a-4c61-9360-8dbce6ca8dfe button.colab-df-convert');\n",
              "        buttonEl.style.display =\n",
              "          google.colab.kernel.accessAllowed ? 'block' : 'none';\n",
              "\n",
              "        async function convertToInteractive(key) {\n",
              "          const element = document.querySelector('#df-71ad1ca9-eb4a-4c61-9360-8dbce6ca8dfe');\n",
              "          const dataTable =\n",
              "            await google.colab.kernel.invokeFunction('convertToInteractive',\n",
              "                                                     [key], {});\n",
              "          if (!dataTable) return;\n",
              "\n",
              "          const docLinkHtml = 'Like what you see? Visit the ' +\n",
              "            '<a target=\"_blank\" href=https://colab.research.google.com/notebooks/data_table.ipynb>data table notebook</a>'\n",
              "            + ' to learn more about interactive tables.';\n",
              "          element.innerHTML = '';\n",
              "          dataTable['output_type'] = 'display_data';\n",
              "          await google.colab.output.renderOutput(dataTable, element);\n",
              "          const docLink = document.createElement('div');\n",
              "          docLink.innerHTML = docLinkHtml;\n",
              "          element.appendChild(docLink);\n",
              "        }\n",
              "      </script>\n",
              "    </div>\n",
              "  </div>\n",
              "  "
            ],
            "text/plain": [
              "   age        job  marital    education  default housing loan    contact  \\\n",
              "0   56  housemaid  married     basic.4y       no      no   no  telephone   \n",
              "1   57   services  married  high.school  unknown      no   no  telephone   \n",
              "2   37   services  married  high.school       no     yes   no  telephone   \n",
              "3   40     admin.  married     basic.6y       no      no   no  telephone   \n",
              "4   56   services  married  high.school       no      no  yes  telephone   \n",
              "\n",
              "  month day_of_week  ...  campaign  pdays  previous     poutcome emp.var.rate  \\\n",
              "0   may         mon  ...         1    999         0  nonexistent          1.1   \n",
              "1   may         mon  ...         1    999         0  nonexistent          1.1   \n",
              "2   may         mon  ...         1    999         0  nonexistent          1.1   \n",
              "3   may         mon  ...         1    999         0  nonexistent          1.1   \n",
              "4   may         mon  ...         1    999         0  nonexistent          1.1   \n",
              "\n",
              "   cons.price.idx  cons.conf.idx  euribor3m  nr.employed  y  \n",
              "0          93.994          -36.4      4.857       5191.0  0  \n",
              "1          93.994          -36.4      4.857       5191.0  0  \n",
              "2          93.994          -36.4      4.857       5191.0  0  \n",
              "3          93.994          -36.4      4.857       5191.0  0  \n",
              "4          93.994          -36.4      4.857       5191.0  0  \n",
              "\n",
              "[5 rows x 21 columns]"
            ]
          },
          "execution_count": 2,
          "metadata": {},
          "output_type": "execute_result"
        }
      ],
      "source": [
        "df = pd.read_csv('bank-additional-full.csv', sep = ';')\n",
        "df['y'] = df['y'].map({'yes': 1, 'no': 0})\n",
        "df.head()"
      ]
    },
    {
      "cell_type": "code",
      "execution_count": 3,
      "metadata": {
        "colab": {
          "base_uri": "https://localhost:8080/"
        },
        "id": "2YJWgvXOngXU",
        "outputId": "f8f76626-a3fd-40c7-8e0d-1e172d38330a"
      },
      "outputs": [
        {
          "name": "stdout",
          "output_type": "stream",
          "text": [
            "Shape of the data: (41188, 21)\n",
            "Columns Names are:\n",
            " Index(['age', 'job', 'marital', 'education', 'default', 'housing', 'loan',\n",
            "       'contact', 'month', 'day_of_week', 'duration', 'campaign', 'pdays',\n",
            "       'previous', 'poutcome', 'emp.var.rate', 'cons.price.idx',\n",
            "       'cons.conf.idx', 'euribor3m', 'nr.employed', 'y'],\n",
            "      dtype='object')\n"
          ]
        }
      ],
      "source": [
        "print(\"Shape of the data:\", df.shape)\n",
        "print(\"Columns Names are:\\n\", df.columns)"
      ]
    },
    {
      "cell_type": "code",
      "execution_count": 4,
      "metadata": {
        "colab": {
          "base_uri": "https://localhost:8080/"
        },
        "id": "VM5BI33_nj-Z",
        "outputId": "d21281b1-e98b-4c57-9689-79f723d71b59"
      },
      "outputs": [
        {
          "name": "stdout",
          "output_type": "stream",
          "text": [
            "General Information about the Data\n",
            "<class 'pandas.core.frame.DataFrame'>\n",
            "RangeIndex: 41188 entries, 0 to 41187\n",
            "Data columns (total 21 columns):\n",
            " #   Column          Non-Null Count  Dtype  \n",
            "---  ------          --------------  -----  \n",
            " 0   age             41188 non-null  int64  \n",
            " 1   job             41188 non-null  object \n",
            " 2   marital         41188 non-null  object \n",
            " 3   education       41188 non-null  object \n",
            " 4   default         41188 non-null  object \n",
            " 5   housing         41188 non-null  object \n",
            " 6   loan            41188 non-null  object \n",
            " 7   contact         41188 non-null  object \n",
            " 8   month           41188 non-null  object \n",
            " 9   day_of_week     41188 non-null  object \n",
            " 10  duration        41188 non-null  int64  \n",
            " 11  campaign        41188 non-null  int64  \n",
            " 12  pdays           41188 non-null  int64  \n",
            " 13  previous        41188 non-null  int64  \n",
            " 14  poutcome        41188 non-null  object \n",
            " 15  emp.var.rate    41188 non-null  float64\n",
            " 16  cons.price.idx  41188 non-null  float64\n",
            " 17  cons.conf.idx   41188 non-null  float64\n",
            " 18  euribor3m       41188 non-null  float64\n",
            " 19  nr.employed     41188 non-null  float64\n",
            " 20  y               41188 non-null  int64  \n",
            "dtypes: float64(5), int64(6), object(10)\n",
            "memory usage: 6.6+ MB\n"
          ]
        }
      ],
      "source": [
        "print(\"General Information about the Data\")\n",
        "df.info()"
      ]
    },
    {
      "cell_type": "code",
      "execution_count": 5,
      "metadata": {
        "colab": {
          "base_uri": "https://localhost:8080/"
        },
        "id": "3-mdOKP2oLHc",
        "outputId": "7838d1c5-e5c1-4ff0-851f-9e5c0ff7be16"
      },
      "outputs": [
        {
          "name": "stdout",
          "output_type": "stream",
          "text": [
            "Data Types for all the columns of the data:\n",
            "age                 int64\n",
            "job                object\n",
            "marital            object\n",
            "education          object\n",
            "default            object\n",
            "housing            object\n",
            "loan               object\n",
            "contact            object\n",
            "month              object\n",
            "day_of_week        object\n",
            "duration            int64\n",
            "campaign            int64\n",
            "pdays               int64\n",
            "previous            int64\n",
            "poutcome           object\n",
            "emp.var.rate      float64\n",
            "cons.price.idx    float64\n",
            "cons.conf.idx     float64\n",
            "euribor3m         float64\n",
            "nr.employed       float64\n",
            "y                   int64\n",
            "dtype: object\n"
          ]
        }
      ],
      "source": [
        "print(\"Data Types for all the columns of the data:\")\n",
        "print(df.dtypes)"
      ]
    },
    {
      "cell_type": "code",
      "execution_count": 6,
      "metadata": {
        "colab": {
          "base_uri": "https://localhost:8080/"
        },
        "id": "LQ2xlMjEnyli",
        "outputId": "1c5fce19-9f9d-4d5a-b102-a8295da82d07"
      },
      "outputs": [
        {
          "name": "stdout",
          "output_type": "stream",
          "text": [
            "Unique Values for job is -:\n",
            "['housemaid' 'services' 'admin.' 'blue-collar' 'technician' 'retired'\n",
            " 'management' 'unemployed' 'self-employed' 'unknown' 'entrepreneur'\n",
            " 'student']\n",
            "\n",
            "Unique Values for marital is -:\n",
            "['married' 'single' 'divorced' 'unknown']\n",
            "\n",
            "Unique Values for education is -:\n",
            "['basic.4y' 'high.school' 'basic.6y' 'basic.9y' 'professional.course'\n",
            " 'unknown' 'university.degree' 'illiterate']\n",
            "\n",
            "Unique Values for default is -:\n",
            "['no' 'unknown' 'yes']\n",
            "\n",
            "Unique Values for housing is -:\n",
            "['no' 'yes' 'unknown']\n",
            "\n",
            "Unique Values for loan is -:\n",
            "['no' 'yes' 'unknown']\n",
            "\n",
            "Unique Values for contact is -:\n",
            "['telephone' 'cellular']\n",
            "\n",
            "Unique Values for month is -:\n",
            "['may' 'jun' 'jul' 'aug' 'oct' 'nov' 'dec' 'mar' 'apr' 'sep']\n",
            "\n",
            "Unique Values for day_of_week is -:\n",
            "['mon' 'tue' 'wed' 'thu' 'fri']\n",
            "\n",
            "Unique Values for poutcome is -:\n",
            "['nonexistent' 'failure' 'success']\n",
            "\n"
          ]
        }
      ],
      "source": [
        "def categoricalUniqueValues(fields, df):\n",
        "  for field in fields:\n",
        "    print(f\"Unique Values for {field} is -:\")\n",
        "    print(df[f\"{field}\"].unique())\n",
        "    print()\n",
        "\n",
        "categoricalFields = [\"job\", \"marital\", \"education\", \"default\", \"housing\", \"loan\", \"contact\", \"month\", \"day_of_week\", \"poutcome\"]\n",
        "categoricalUniqueValues(categoricalFields, df)"
      ]
    },
    {
      "cell_type": "markdown",
      "metadata": {
        "id": "4xUOk-XSosXd"
      },
      "source": [
        "# **Exploratory Data Analysis**\n",
        "Will perform some Exploratory Data Analysis to see how different features are distribute in the dataset."
      ]
    },
    {
      "cell_type": "markdown",
      "metadata": {
        "id": "BnTKM60Vp7eE"
      },
      "source": [
        "1.1 Visualizing how age is distributed in the dataset"
      ]
    },
    {
      "cell_type": "code",
      "execution_count": 7,
      "metadata": {
        "colab": {
          "base_uri": "https://localhost:8080/",
          "height": 538
        },
        "id": "rs_AZmdqoEno",
        "outputId": "26ab81d6-0a40-443f-c7fd-9f4a1e225079"
      },
      "outputs": [
        {
          "data": {
            "text/plain": [
              "Text(0.5, 1.0, 'Age Count Distribution')"
            ]
          },
          "execution_count": 7,
          "metadata": {},
          "output_type": "execute_result"
        },
        {
          "data": {
            "image/png": "[encoded data removed]",
            "text/plain": [
              "<Figure size 1440x576 with 1 Axes>"
            ]
          },
          "metadata": {
            "needs_background": "light"
          },
          "output_type": "display_data"
        }
      ],
      "source": [
        "fig, ax = plt.subplots()\n",
        "fig.set_size_inches(20, 8)\n",
        "sns.countplot(x = 'age', data = df)\n",
        "ax.set_xlabel('Age', fontsize=15)\n",
        "ax.set_ylabel('Count', fontsize=15)\n",
        "ax.set_title('Age Count Distribution', fontsize=15)"
      ]
    },
    {
      "cell_type": "markdown",
      "metadata": {
        "id": "8V2POSGcqjGX"
      },
      "source": [
        "1.2 Visualizing how Education is distributed in the dataset."
      ]
    },
    {
      "cell_type": "code",
      "execution_count": 8,
      "metadata": {
        "colab": {
          "base_uri": "https://localhost:8080/",
          "height": 362
        },
        "id": "tHsfwfTzqKpu",
        "outputId": "c7641416-0881-4ae2-ba77-a86997268800"
      },
      "outputs": [
        {
          "data": {
            "image/png": "[encoded data removed]",
            "text/plain": [
              "<Figure size 1440x360 with 1 Axes>"
            ]
          },
          "metadata": {
            "needs_background": "light"
          },
          "output_type": "display_data"
        }
      ],
      "source": [
        "fig, ax = plt.subplots()\n",
        "fig.set_size_inches(20, 5)\n",
        "sns.countplot(x = 'education', data = df)\n",
        "ax.set_xlabel('Education', fontsize=15)\n",
        "ax.set_ylabel('Count', fontsize=15)\n",
        "ax.set_title('Education Count Distribution', fontsize=15)\n",
        "ax.tick_params(labelsize=15)"
      ]
    },
    {
      "cell_type": "markdown",
      "metadata": {
        "id": "D5vUmI4LrJx0"
      },
      "source": [
        "1.3 Visualizing how Maritial Status is distributed in the dataset."
      ]
    },
    {
      "cell_type": "code",
      "execution_count": 9,
      "metadata": {
        "colab": {
          "base_uri": "https://localhost:8080/",
          "height": 362
        },
        "id": "gPGmypLlrJGm",
        "outputId": "553c966a-4969-4f4a-c326-6a8a88b22454"
      },
      "outputs": [
        {
          "data": {
            "image/png": "[encoded data removed]",
            "text/plain": [
              "<Figure size 720x360 with 1 Axes>"
            ]
          },
          "metadata": {
            "needs_background": "light"
          },
          "output_type": "display_data"
        }
      ],
      "source": [
        "fig, ax = plt.subplots()\n",
        "fig.set_size_inches(10, 5)\n",
        "sns.countplot(x = 'marital', data = df)\n",
        "ax.set_xlabel('Marital', fontsize=15)\n",
        "ax.set_ylabel('Count', fontsize=15)\n",
        "ax.set_title('Marital Status Count Distribution', fontsize=15)\n",
        "ax.tick_params(labelsize=15)"
      ]
    },
    {
      "cell_type": "markdown",
      "metadata": {
        "id": "nxdjQemHrzCn"
      },
      "source": [
        "1.4 Visualizing how Jobs is distributed in the dataset."
      ]
    },
    {
      "cell_type": "code",
      "execution_count": 10,
      "metadata": {
        "colab": {
          "base_uri": "https://localhost:8080/",
          "height": 468
        },
        "id": "gUJB55u8rnoI",
        "outputId": "8ab763e1-cbcd-4e9e-db1b-487a787986a0"
      },
      "outputs": [
        {
          "data": {
            "text/plain": [
              "(array([ 0,  1,  2,  3,  4,  5,  6,  7,  8,  9, 10, 11]),\n",
              " <a list of 12 Text major ticklabel objects>)"
            ]
          },
          "execution_count": 10,
          "metadata": {},
          "output_type": "execute_result"
        },
        {
          "data": {
            "image/png": "[encoded data removed]",
            "text/plain": [
              "<Figure size 720x360 with 1 Axes>"
            ]
          },
          "metadata": {
            "needs_background": "light"
          },
          "output_type": "display_data"
        }
      ],
      "source": [
        "fig, ax = plt.subplots()\n",
        "fig.set_size_inches(10, 5)\n",
        "sns.countplot(x = 'job', data = df)\n",
        "ax.set_xlabel('Jobs', fontsize=15)\n",
        "ax.set_ylabel('Count', fontsize=15)\n",
        "ax.set_title('Job Count Distribution', fontsize=15)\n",
        "ax.tick_params(labelsize=15)\n",
        "plt.xticks(rotation=45)"
      ]
    },
    {
      "cell_type": "markdown",
      "metadata": {
        "id": "VKQGSR7OsY25"
      },
      "source": [
        "1.5 Visulization Related to Defaults, Housing Loans, Personal Loans"
      ]
    },
    {
      "cell_type": "code",
      "execution_count": 11,
      "metadata": {
        "colab": {
          "base_uri": "https://localhost:8080/",
          "height": 397
        },
        "id": "8tRFYztIrTrq",
        "outputId": "5c19f5c6-3ea6-4a09-88e2-0b4a2f6ac6c5"
      },
      "outputs": [
        {
          "data": {
            "image/png": "[encoded data removed]",
            "text/plain": [
              "<Figure size 1080x432 with 3 Axes>"
            ]
          },
          "metadata": {
            "needs_background": "light"
          },
          "output_type": "display_data"
        }
      ],
      "source": [
        "fig, (ax1, ax2, ax3) = plt.subplots(nrows = 1, ncols = 3, figsize = (15,6))\n",
        "sns.countplot(x = 'default', data = df, ax = ax1, order = ['no', 'unknown', 'yes'])\n",
        "ax1.set_title('Default', fontsize=15)\n",
        "ax1.set_xlabel('')\n",
        "ax1.set_ylabel('Count', fontsize=15)\n",
        "ax1.tick_params(labelsize=15)\n",
        "\n",
        "sns.countplot(x = 'housing', data = df, ax = ax2, order = ['no', 'unknown', 'yes'])\n",
        "ax2.set_title('Housing', fontsize=15)\n",
        "ax2.set_xlabel('')\n",
        "ax2.set_ylabel('Count', fontsize=15)\n",
        "ax2.tick_params(labelsize=15)\n",
        "\n",
        "sns.countplot(x = 'loan', data = df, ax = ax3, order = ['no', 'unknown', 'yes'])\n",
        "ax3.set_title('Loan', fontsize=15)\n",
        "ax3.set_xlabel('')\n",
        "ax3.set_ylabel('Count', fontsize=15)\n",
        "ax3.tick_params(labelsize=15)\n",
        "\n",
        "plt.subplots_adjust(wspace=0.6)"
      ]
    },
    {
      "cell_type": "markdown",
      "metadata": {
        "id": "PJKx_FDnt3NW"
      },
      "source": [
        "1.6 Visualisation related to \"Last Contact of the Current Campaign\""
      ]
    },
    {
      "cell_type": "code",
      "execution_count": 12,
      "metadata": {
        "colab": {
          "base_uri": "https://localhost:8080/",
          "height": 368
        },
        "id": "zDsDO1fQuG90",
        "outputId": "26cb0fbd-d78b-4067-d65f-f452719324c0"
      },
      "outputs": [
        {
          "data": {
            "text/plain": [
              "Text(0.5, 1.0, 'Call Duration vs Count')"
            ]
          },
          "execution_count": 12,
          "metadata": {},
          "output_type": "execute_result"
        },
        {
          "data": {
            "image/png": "[encoded data removed]",
            "text/plain": [
              "<Figure size 720x360 with 1 Axes>"
            ]
          },
          "metadata": {
            "needs_background": "light"
          },
          "output_type": "display_data"
        }
      ],
      "source": [
        "fig, ax = plt.subplots()\n",
        "fig.set_size_inches(10, 5)\n",
        "\n",
        "sns.distplot(df['duration'])\n",
        "ax.set_xlabel(\"Call duration\")\n",
        "ax.set_ylabel(\"Count\")\n",
        "ax.set_title(\"Call Duration vs Count\")"
      ]
    },
    {
      "cell_type": "code",
      "execution_count": 13,
      "metadata": {
        "colab": {
          "base_uri": "https://localhost:8080/"
        },
        "id": "mavJ8D8VvVmw",
        "outputId": "32988dc9-933a-4df9-849c-e401e0c7b1c2"
      },
      "outputs": [
        {
          "name": "stdout",
          "output_type": "stream",
          "text": [
            "Min call duration:  0\n",
            "Max call duration:  4918\n",
            "Median call duration:  258.29\n",
            "Standard diveation in call duration:  259.28\n"
          ]
        }
      ],
      "source": [
        "min_duration = df['duration'].min()\n",
        "max_duration = df['duration'].max()\n",
        "median_duration = df['duration'].mean()\n",
        "standard_dev_duration = df[\"duration\"].std()\n",
        "\n",
        "print(\"Min call duration: \", min_duration)\n",
        "print(\"Max call duration: \", max_duration)\n",
        "print(\"Median call duration: \", round(median_duration, 2))\n",
        "print(\"Standard diveation in call duration: \", round(standard_dev_duration, 2))"
      ]
    },
    {
      "cell_type": "code",
      "execution_count": 14,
      "metadata": {
        "colab": {
          "base_uri": "https://localhost:8080/",
          "height": 368
        },
        "id": "wH7q-zE43IOh",
        "outputId": "519cdf2a-a8fa-4a96-871f-b79744a59b53"
      },
      "outputs": [
        {
          "data": {
            "text/plain": [
              "Text(0.5, 1.0, 'Count of Calls made on Days of the week')"
            ]
          },
          "execution_count": 14,
          "metadata": {},
          "output_type": "execute_result"
        },
        {
          "data": {
            "image/png": "[encoded data removed]",
            "text/plain": [
              "<Figure size 1080x360 with 2 Axes>"
            ]
          },
          "metadata": {
            "needs_background": "light"
          },
          "output_type": "display_data"
        }
      ],
      "source": [
        "fig, (ax1, ax2) = plt.subplots(nrows = 1, ncols = 2, figsize = (15, 5))\n",
        "\n",
        "sns.countplot(x = 'contact', data = df, ax = ax1)\n",
        "ax1.set_xlabel(\"Contact Method\")\n",
        "ax1.set_ylabel(\"Count\")\n",
        "ax1.set_title(\"Count of Contact Methods\")\n",
        "\n",
        "sns.countplot(df['day_of_week'], ax = ax2)\n",
        "ax2.set_xlabel(\"Days of the week\")\n",
        "ax2.set_ylabel(\"Count\")\n",
        "ax2.set_title(\"Count of Calls made on Days of the week\")"
      ]
    },
    {
      "cell_type": "markdown",
      "metadata": {
        "id": "Ira-FnkHwOQu"
      },
      "source": [
        "# **Looking for Correlations**"
      ]
    },
    {
      "cell_type": "markdown",
      "metadata": {
        "id": "uMwbKP-awW6J"
      },
      "source": [
        "Checking for Correlated Columns"
      ]
    },
    {
      "cell_type": "code",
      "execution_count": 15,
      "metadata": {
        "colab": {
          "base_uri": "https://localhost:8080/",
          "height": 394
        },
        "id": "Ozrc4QSBwROH",
        "outputId": "27e54200-e3bb-4bbd-a5b5-24713dc46217"
      },
      "outputs": [
        {
          "data": {
            "text/html": [
              "\n",
              "  <div id=\"df-32fcf318-8b1a-448b-b1b6-37f673636f85\">\n",
              "    <div class=\"colab-df-container\">\n",
              "      <div>\n",
              "<style scoped>\n",
              "    .dataframe tbody tr th:only-of-type {\n",
              "        vertical-align: middle;\n",
              "    }\n",
              "\n",
              "    .dataframe tbody tr th {\n",
              "        vertical-align: top;\n",
              "    }\n",
              "\n",
              "    .dataframe thead th {\n",
              "        text-align: right;\n",
              "    }\n",
              "</style>\n",
              "<table border=\"1\" class=\"dataframe\">\n",
              "  <thead>\n",
              "    <tr style=\"text-align: right;\">\n",
              "      <th></th>\n",
              "      <th>age</th>\n",
              "      <th>duration</th>\n",
              "      <th>campaign</th>\n",
              "      <th>pdays</th>\n",
              "      <th>previous</th>\n",
              "      <th>emp.var.rate</th>\n",
              "      <th>cons.price.idx</th>\n",
              "      <th>cons.conf.idx</th>\n",
              "      <th>euribor3m</th>\n",
              "      <th>nr.employed</th>\n",
              "      <th>y</th>\n",
              "    </tr>\n",
              "  </thead>\n",
              "  <tbody>\n",
              "    <tr>\n",
              "      <th>age</th>\n",
              "      <td>1.0</td>\n",
              "      <td>NaN</td>\n",
              "      <td>NaN</td>\n",
              "      <td>NaN</td>\n",
              "      <td>NaN</td>\n",
              "      <td>NaN</td>\n",
              "      <td>NaN</td>\n",
              "      <td>NaN</td>\n",
              "      <td>NaN</td>\n",
              "      <td>NaN</td>\n",
              "      <td>NaN</td>\n",
              "    </tr>\n",
              "    <tr>\n",
              "      <th>duration</th>\n",
              "      <td>NaN</td>\n",
              "      <td>1.0</td>\n",
              "      <td>NaN</td>\n",
              "      <td>NaN</td>\n",
              "      <td>NaN</td>\n",
              "      <td>NaN</td>\n",
              "      <td>NaN</td>\n",
              "      <td>NaN</td>\n",
              "      <td>NaN</td>\n",
              "      <td>NaN</td>\n",
              "      <td>NaN</td>\n",
              "    </tr>\n",
              "    <tr>\n",
              "      <th>campaign</th>\n",
              "      <td>NaN</td>\n",
              "      <td>NaN</td>\n",
              "      <td>1.0</td>\n",
              "      <td>NaN</td>\n",
              "      <td>NaN</td>\n",
              "      <td>NaN</td>\n",
              "      <td>NaN</td>\n",
              "      <td>NaN</td>\n",
              "      <td>NaN</td>\n",
              "      <td>NaN</td>\n",
              "      <td>NaN</td>\n",
              "    </tr>\n",
              "    <tr>\n",
              "      <th>pdays</th>\n",
              "      <td>NaN</td>\n",
              "      <td>NaN</td>\n",
              "      <td>NaN</td>\n",
              "      <td>1.0</td>\n",
              "      <td>NaN</td>\n",
              "      <td>NaN</td>\n",
              "      <td>NaN</td>\n",
              "      <td>NaN</td>\n",
              "      <td>NaN</td>\n",
              "      <td>NaN</td>\n",
              "      <td>NaN</td>\n",
              "    </tr>\n",
              "    <tr>\n",
              "      <th>previous</th>\n",
              "      <td>NaN</td>\n",
              "      <td>NaN</td>\n",
              "      <td>NaN</td>\n",
              "      <td>NaN</td>\n",
              "      <td>1.0</td>\n",
              "      <td>NaN</td>\n",
              "      <td>NaN</td>\n",
              "      <td>NaN</td>\n",
              "      <td>NaN</td>\n",
              "      <td>NaN</td>\n",
              "      <td>NaN</td>\n",
              "    </tr>\n",
              "    <tr>\n",
              "      <th>emp.var.rate</th>\n",
              "      <td>NaN</td>\n",
              "      <td>NaN</td>\n",
              "      <td>NaN</td>\n",
              "      <td>NaN</td>\n",
              "      <td>NaN</td>\n",
              "      <td>1.000000</td>\n",
              "      <td>0.775334</td>\n",
              "      <td>NaN</td>\n",
              "      <td>0.972245</td>\n",
              "      <td>0.906970</td>\n",
              "      <td>NaN</td>\n",
              "    </tr>\n",
              "    <tr>\n",
              "      <th>cons.price.idx</th>\n",
              "      <td>NaN</td>\n",
              "      <td>NaN</td>\n",
              "      <td>NaN</td>\n",
              "      <td>NaN</td>\n",
              "      <td>NaN</td>\n",
              "      <td>0.775334</td>\n",
              "      <td>1.000000</td>\n",
              "      <td>NaN</td>\n",
              "      <td>NaN</td>\n",
              "      <td>NaN</td>\n",
              "      <td>NaN</td>\n",
              "    </tr>\n",
              "    <tr>\n",
              "      <th>cons.conf.idx</th>\n",
              "      <td>NaN</td>\n",
              "      <td>NaN</td>\n",
              "      <td>NaN</td>\n",
              "      <td>NaN</td>\n",
              "      <td>NaN</td>\n",
              "      <td>NaN</td>\n",
              "      <td>NaN</td>\n",
              "      <td>1.0</td>\n",
              "      <td>NaN</td>\n",
              "      <td>NaN</td>\n",
              "      <td>NaN</td>\n",
              "    </tr>\n",
              "    <tr>\n",
              "      <th>euribor3m</th>\n",
              "      <td>NaN</td>\n",
              "      <td>NaN</td>\n",
              "      <td>NaN</td>\n",
              "      <td>NaN</td>\n",
              "      <td>NaN</td>\n",
              "      <td>0.972245</td>\n",
              "      <td>NaN</td>\n",
              "      <td>NaN</td>\n",
              "      <td>1.000000</td>\n",
              "      <td>0.945154</td>\n",
              "      <td>NaN</td>\n",
              "    </tr>\n",
              "    <tr>\n",
              "      <th>nr.employed</th>\n",
              "      <td>NaN</td>\n",
              "      <td>NaN</td>\n",
              "      <td>NaN</td>\n",
              "      <td>NaN</td>\n",
              "      <td>NaN</td>\n",
              "      <td>0.906970</td>\n",
              "      <td>NaN</td>\n",
              "      <td>NaN</td>\n",
              "      <td>0.945154</td>\n",
              "      <td>1.000000</td>\n",
              "      <td>NaN</td>\n",
              "    </tr>\n",
              "    <tr>\n",
              "      <th>y</th>\n",
              "      <td>NaN</td>\n",
              "      <td>NaN</td>\n",
              "      <td>NaN</td>\n",
              "      <td>NaN</td>\n",
              "      <td>NaN</td>\n",
              "      <td>NaN</td>\n",
              "      <td>NaN</td>\n",
              "      <td>NaN</td>\n",
              "      <td>NaN</td>\n",
              "      <td>NaN</td>\n",
              "      <td>1.0</td>\n",
              "    </tr>\n",
              "  </tbody>\n",
              "</table>\n",
              "</div>\n",
              "      <button class=\"colab-df-convert\" onclick=\"convertToInteractive('df-32fcf318-8b1a-448b-b1b6-37f673636f85')\"\n",
              "              title=\"Convert this dataframe to an interactive table.\"\n",
              "              style=\"display:none;\">\n",
              "        \n",
              "  <svg xmlns=\"http://www.w3.org/2000/svg\" height=\"24px\"viewBox=\"0 0 24 24\"\n",
              "       width=\"24px\">\n",
              "    <path d=\"M0 0h24v24H0V0z\" fill=\"none\"/>\n",
              "    <path d=\"M18.56 5.44l.94 2.06.94-2.06 2.06-.94-2.06-.94-.94-2.06-.94 2.06-2.06.94zm-11 1L8.5 8.5l.94-2.06 2.06-.94-2.06-.94L8.5 2.5l-.94 2.06-2.06.94zm10 10l.94 2.06.94-2.06 2.06-.94-2.06-.94-.94-2.06-.94 2.06-2.06.94z\"/><path d=\"M17.41 7.96l-1.37-1.37c-.4-.4-.92-.59-1.43-.59-.52 0-1.04.2-1.43.59L10.3 9.45l-7.72 7.72c-.78.78-.78 2.05 0 2.83L4 21.41c.39.39.9.59 1.41.59.51 0 1.02-.2 1.41-.59l7.78-7.78 2.81-2.81c.8-.78.8-2.07 0-2.86zM5.41 20L4 18.59l7.72-7.72 1.47 1.35L5.41 20z\"/>\n",
              "  </svg>\n",
              "      </button>\n",
              "      \n",
              "  <style>\n",
              "    .colab-df-container {\n",
              "      display:flex;\n",
              "      flex-wrap:wrap;\n",
              "      gap: 12px;\n",
              "    }\n",
              "\n",
              "    .colab-df-convert {\n",
              "      background-color: #E8F0FE;\n",
              "      border: none;\n",
              "      border-radius: 50%;\n",
              "      cursor: pointer;\n",
              "      display: none;\n",
              "      fill: #1967D2;\n",
              "      height: 32px;\n",
              "      padding: 0 0 0 0;\n",
              "      width: 32px;\n",
              "    }\n",
              "\n",
              "    .colab-df-convert:hover {\n",
              "      background-color: #E2EBFA;\n",
              "      box-shadow: 0px 1px 2px rgba(60, 64, 67, 0.3), 0px 1px 3px 1px rgba(60, 64, 67, 0.15);\n",
              "      fill: #174EA6;\n",
              "    }\n",
              "\n",
              "    [theme=dark] .colab-df-convert {\n",
              "      background-color: #3B4455;\n",
              "      fill: #D2E3FC;\n",
              "    }\n",
              "\n",
              "    [theme=dark] .colab-df-convert:hover {\n",
              "      background-color: #434B5C;\n",
              "      box-shadow: 0px 1px 3px 1px rgba(0, 0, 0, 0.15);\n",
              "      filter: drop-shadow(0px 1px 2px rgba(0, 0, 0, 0.3));\n",
              "      fill: #FFFFFF;\n",
              "    }\n",
              "  </style>\n",
              "\n",
              "      <script>\n",
              "        const buttonEl =\n",
              "          document.querySelector('#df-32fcf318-8b1a-448b-b1b6-37f673636f85 button.colab-df-convert');\n",
              "        buttonEl.style.display =\n",
              "          google.colab.kernel.accessAllowed ? 'block' : 'none';\n",
              "\n",
              "        async function convertToInteractive(key) {\n",
              "          const element = document.querySelector('#df-32fcf318-8b1a-448b-b1b6-37f673636f85');\n",
              "          const dataTable =\n",
              "            await google.colab.kernel.invokeFunction('convertToInteractive',\n",
              "                                                     [key], {});\n",
              "          if (!dataTable) return;\n",
              "\n",
              "          const docLinkHtml = 'Like what you see? Visit the ' +\n",
              "            '<a target=\"_blank\" href=https://colab.research.google.com/notebooks/data_table.ipynb>data table notebook</a>'\n",
              "            + ' to learn more about interactive tables.';\n",
              "          element.innerHTML = '';\n",
              "          dataTable['output_type'] = 'display_data';\n",
              "          await google.colab.output.renderOutput(dataTable, element);\n",
              "          const docLink = document.createElement('div');\n",
              "          docLink.innerHTML = docLinkHtml;\n",
              "          element.appendChild(docLink);\n",
              "        }\n",
              "      </script>\n",
              "    </div>\n",
              "  </div>\n",
              "  "
            ],
            "text/plain": [
              "                age  duration  campaign  pdays  previous  emp.var.rate  \\\n",
              "age             1.0       NaN       NaN    NaN       NaN           NaN   \n",
              "duration        NaN       1.0       NaN    NaN       NaN           NaN   \n",
              "campaign        NaN       NaN       1.0    NaN       NaN           NaN   \n",
              "pdays           NaN       NaN       NaN    1.0       NaN           NaN   \n",
              "previous        NaN       NaN       NaN    NaN       1.0           NaN   \n",
              "emp.var.rate    NaN       NaN       NaN    NaN       NaN      1.000000   \n",
              "cons.price.idx  NaN       NaN       NaN    NaN       NaN      0.775334   \n",
              "cons.conf.idx   NaN       NaN       NaN    NaN       NaN           NaN   \n",
              "euribor3m       NaN       NaN       NaN    NaN       NaN      0.972245   \n",
              "nr.employed     NaN       NaN       NaN    NaN       NaN      0.906970   \n",
              "y               NaN       NaN       NaN    NaN       NaN           NaN   \n",
              "\n",
              "                cons.price.idx  cons.conf.idx  euribor3m  nr.employed    y  \n",
              "age                        NaN            NaN        NaN          NaN  NaN  \n",
              "duration                   NaN            NaN        NaN          NaN  NaN  \n",
              "campaign                   NaN            NaN        NaN          NaN  NaN  \n",
              "pdays                      NaN            NaN        NaN          NaN  NaN  \n",
              "previous                   NaN            NaN        NaN          NaN  NaN  \n",
              "emp.var.rate          0.775334            NaN   0.972245     0.906970  NaN  \n",
              "cons.price.idx        1.000000            NaN        NaN          NaN  NaN  \n",
              "cons.conf.idx              NaN            1.0        NaN          NaN  NaN  \n",
              "euribor3m                  NaN            NaN   1.000000     0.945154  NaN  \n",
              "nr.employed                NaN            NaN   0.945154     1.000000  NaN  \n",
              "y                          NaN            NaN        NaN          NaN  1.0  "
            ]
          },
          "execution_count": 15,
          "metadata": {},
          "output_type": "execute_result"
        }
      ],
      "source": [
        "correlation_df = df.corr()\n",
        "correlation_df_greater_than_75 = correlation_df[correlation_df >= 0.75]\n",
        "correlation_df_greater_than_75"
      ]
    },
    {
      "cell_type": "code",
      "execution_count": 16,
      "metadata": {
        "colab": {
          "base_uri": "https://localhost:8080/",
          "height": 564
        },
        "id": "6gRN6dRLw9v6",
        "outputId": "55759782-889f-4f5b-cf29-1cdb690ebe26"
      },
      "outputs": [
        {
          "data": {
            "text/plain": [
              "<matplotlib.axes._subplots.AxesSubplot at 0x7f3f76beff50>"
            ]
          },
          "execution_count": 16,
          "metadata": {},
          "output_type": "execute_result"
        },
        {
          "data": {
            "image/png": "[encoded data removed]",
            "text/plain": [
              "<Figure size 864x576 with 2 Axes>"
            ]
          },
          "metadata": {
            "needs_background": "light"
          },
          "output_type": "display_data"
        }
      ],
      "source": [
        "plt.figure(figsize=(12,8))\n",
        "sns.heatmap(correlation_df_greater_than_75, cmap=\"Reds\", annot = True)"
      ]
    },
    {
      "cell_type": "markdown",
      "metadata": {
        "id": "6VyW700CxUvL"
      },
      "source": [
        "Note -:\n",
        "* emp.var.rate has a high correlation with nr.employed, euribor3m and cons.price.idx.\n",
        "* euribor3m has a high correlation with nr.employed\n",
        "\n",
        "we might need to consider this while selecting our features."
      ]
    },
    {
      "cell_type": "markdown",
      "metadata": {
        "id": "3CNiaucPzMva"
      },
      "source": [
        "# **Data Cleaning**"
      ]
    },
    {
      "cell_type": "markdown",
      "metadata": {
        "id": "TpgcWbl32FvE"
      },
      "source": [
        "Building custom transformers and pipeline"
      ]
    },
    {
      "cell_type": "code",
      "execution_count": 17,
      "metadata": {
        "id": "tGq5hM3G2Ea0"
      },
      "outputs": [],
      "source": [
        "class FeatureSelector( BaseEstimator, TransformerMixin ):\n",
        "    def __init__( self, feature_names ):\n",
        "        self._feature_names = feature_names \n",
        "     \n",
        "    def fit( self, X, y = None ):\n",
        "        return self \n",
        "\n",
        "    def transform( self, X, y = None ):\n",
        "        return X[ self._feature_names ]\n",
        "\n",
        "class CategoricalTransformer( BaseEstimator, TransformerMixin ):\n",
        "    def __init__(self ):\n",
        "        pass\n",
        "        \n",
        "    def fit( self, X, y = None  ):\n",
        "        return self\n",
        "    \n",
        "    def transform(self, X , y = None ):\n",
        "      #Assuming unknown data\n",
        "      X.loc[X['job'] == \"unknown\" ,'job'] = \"unemployed\"\n",
        "      X.loc[X['marital'] == \"unknown\" ,'marital'] = \"single\"\n",
        "      X.loc[X['education'] == \"unknown\" ,'education'] = \"illiterate\"\n",
        "      \n",
        "      #returns numpy array\n",
        "      return X.values"
      ]
    },
    {
      "cell_type": "code",
      "execution_count": 18,
      "metadata": {
        "id": "J82jzPuE2o3b"
      },
      "outputs": [],
      "source": [
        "#Categrical features\n",
        "#We will be dropping contact, month and day of the week from categorical data\n",
        "cateforical_features = [\"job\", \"marital\", \"education\", \"default\", \"housing\", \"loan\", \"poutcome\"]\n",
        "\n",
        "#Numerical features \n",
        "#We will be dropping emp.var.rate, euribor3m\n",
        "numerical_features = ['age', 'duration', 'campaign', 'pdays', 'previous', 'cons.price.idx', 'cons.conf.idx', 'nr.employed']\n",
        "\n",
        "#Defining the steps in the categorical pipeline \n",
        "categorical_pipeline = Pipeline( steps = [ \n",
        "                                          ( 'cat_selector', FeatureSelector(cateforical_features)),\n",
        "                                          ('categorical_transfrom', CategoricalTransformer()),\n",
        "                                          ( 'one_hot_encoder', OneHotEncoder( sparse = False ) ) \n",
        "                               ])\n",
        "    \n",
        "#Defining the steps in the numerical pipeline     \n",
        "numerical_pipeline = Pipeline( steps = [ \n",
        "                                        ( 'num_selector', FeatureSelector(numerical_features) ),\n",
        "                                        ('imputer', SimpleImputer(strategy = 'median') ),\n",
        "                                        ( 'std_scaler', StandardScaler() ) \n",
        "                            ])\n",
        "\n",
        "full_pipeline = FeatureUnion( transformer_list = [ \n",
        "                                                  ( 'categorical_pipeline', categorical_pipeline ), \n",
        "                                                  ( 'numerical_pipeline', numerical_pipeline ) \n",
        "                                              ])"
      ]
    },
    {
      "cell_type": "markdown",
      "metadata": {
        "id": "iQVHTEio7ahM"
      },
      "source": [
        "# **Model Building**"
      ]
    },
    {
      "cell_type": "markdown",
      "metadata": {
        "id": "hF_EKD1d7d9T"
      },
      "source": [
        "Train and Test Split"
      ]
    },
    {
      "cell_type": "code",
      "execution_count": 19,
      "metadata": {
        "id": "wTz6csar60Cs"
      },
      "outputs": [],
      "source": [
        "train_set, test_set = train_test_split(df, test_size=0.2, random_state=42)"
      ]
    },
    {
      "cell_type": "code",
      "execution_count": 20,
      "metadata": {
        "id": "ZFuHNz_q7juS"
      },
      "outputs": [],
      "source": [
        "train_set_x = train_set.drop(\"y\", axis=1)\n",
        "train_set_y = train_set[\"y\"]\n",
        "\n",
        "train_set_x_prep = full_pipeline.fit_transform(train_set_x)\n",
        "train_set_y_prep = np.array(train_set_y)"
      ]
    },
    {
      "cell_type": "markdown",
      "metadata": {
        "id": "MYq_rRyJ8CsK"
      },
      "source": [
        "Balancing the data using SMOTE"
      ]
    },
    {
      "cell_type": "code",
      "execution_count": 21,
      "metadata": {
        "id": "TwdGEN_y8CCf"
      },
      "outputs": [],
      "source": [
        "smote = SMOTE()\n",
        "\n",
        "train_set_x_smote_prep, train_set_y_smote_prep = smote.fit_resample(train_set_x_prep, train_set_y_prep)"
      ]
    },
    {
      "cell_type": "code",
      "execution_count": 22,
      "metadata": {
        "colab": {
          "base_uri": "https://localhost:8080/"
        },
        "id": "Efh0bDe_8aid",
        "outputId": "96921cde-8de2-48b4-d2dc-ee2d3aa6afbd"
      },
      "outputs": [
        {
          "name": "stdout",
          "output_type": "stream",
          "text": [
            "Original dataset shape 32950\n",
            "Resampled dataset shape 58490\n"
          ]
        }
      ],
      "source": [
        "print('Original dataset shape', len(train_set_x_prep))\n",
        "print('Resampled dataset shape', len(train_set_x_smote_prep))"
      ]
    },
    {
      "cell_type": "code",
      "execution_count": 23,
      "metadata": {
        "id": "GZ904rf3v3q4"
      },
      "outputs": [],
      "source": [
        "testSet_x = test_set.drop([\"y\"], axis=1)\n",
        "testSet_x_prep = full_pipeline.transform(testSet_x)\n",
        "\n",
        "testSet_y_labels = np.array(test_set[\"y\"])"
      ]
    },
    {
      "cell_type": "code",
      "execution_count": 34,
      "metadata": {
        "id": "VcOtTMIq4vQc"
      },
      "outputs": [],
      "source": [
        "def report(testSet_y_labels, testSet_y_pred):\n",
        "  accuracy_test = accuracy_score(testSet_y_labels,testSet_y_pred)\n",
        "  roc_test = roc_auc_score(testSet_y_labels, testSet_y_pred, multi_class='ovr')\n",
        "  f1 = f1_score(testSet_y_labels, testSet_y_pred)\n",
        "  precision = precision_score(testSet_y_labels, testSet_y_pred)\n",
        "  recall = recall_score(testSet_y_labels, testSet_y_pred) \n",
        "\n",
        "  print('Accuracy is:', accuracy_test)\n",
        "  print('ROC is:', roc_test)\n",
        "  print(\"F score is:\", f1)\n",
        "  print(\"Precision is:\",precision)\n",
        "  print(\"Recall is:\", recall)"
      ]
    },
    {
      "cell_type": "markdown",
      "metadata": {
        "id": "LOYyRaZ5rOks"
      },
      "source": [
        "## KNN Classifier"
      ]
    },
    {
      "cell_type": "code",
      "execution_count": 24,
      "metadata": {
        "colab": {
          "base_uri": "https://localhost:8080/"
        },
        "id": "76Je5tnfq8gU",
        "outputId": "8f864b0d-0503-46be-dd91-82cb1136e1fb"
      },
      "outputs": [
        {
          "data": {
            "text/plain": [
              "KNeighborsClassifier(n_neighbors=20)"
            ]
          },
          "execution_count": 24,
          "metadata": {},
          "output_type": "execute_result"
        }
      ],
      "source": [
        "knn_cls = KNeighborsClassifier(n_neighbors = 20)\n",
        "knn_cls.fit(train_set_x_smote_prep, train_set_y_smote_prep)"
      ]
    },
    {
      "cell_type": "code",
      "execution_count": 25,
      "metadata": {
        "id": "qp_W3jYmsqF4"
      },
      "outputs": [],
      "source": [
        "testSet_y_pred = knn_cls.predict(testSet_x_prep)"
      ]
    },
    {
      "cell_type": "code",
      "execution_count": 26,
      "metadata": {
        "colab": {
          "base_uri": "https://localhost:8080/"
        },
        "id": "h98unsbOs2yd",
        "outputId": "61eef8c4-1c4a-44ea-b2e2-1cfb96f6c19a"
      },
      "outputs": [
        {
          "name": "stdout",
          "output_type": "stream",
          "text": [
            "Accuracy is: 0.8319980577810148\n",
            "ROC is: 0.8572161026784831\n",
            "F score is: 0.5459317585301837\n",
            "Precision is: 0.39375295787979175\n",
            "Recall is: 0.8898395721925134\n"
          ]
        }
      ],
      "source": [
        "report(testSet_y_labels, testSet_y_pred)"
      ]
    },
    {
      "cell_type": "markdown",
      "metadata": {
        "id": "uN48bXJuvBzw"
      },
      "source": [
        "### Hypertuning KNN"
      ]
    },
    {
      "cell_type": "code",
      "execution_count": 27,
      "metadata": {
        "colab": {
          "base_uri": "https://localhost:8080/"
        },
        "id": "pH3j03Q2vBid",
        "outputId": "9bde4c35-6710-4766-9073-28b1c835916f"
      },
      "outputs": [
        {
          "name": "stdout",
          "output_type": "stream",
          "text": [
            "Fitting 10 folds for each of 30 candidates, totalling 300 fits\n"
          ]
        }
      ],
      "source": [
        "knn = KNeighborsClassifier()\n",
        "k_range = list(range(1, 31))\n",
        "param_grid = dict(n_neighbors=k_range)\n",
        "  \n",
        "grid = GridSearchCV(knn, param_grid, cv=10, scoring='accuracy', return_train_score=False, verbose=1)\n",
        "grid_search = grid.fit(train_set_x_smote_prep, train_set_y_smote_prep)"
      ]
    },
    {
      "cell_type": "code",
      "execution_count": 35,
      "metadata": {
        "colab": {
          "base_uri": "https://localhost:8080/"
        },
        "id": "zanLhjOc4IY0",
        "outputId": "3cdb12ad-9423-40b9-a509-f4eb736100bb"
      },
      "outputs": [
        {
          "name": "stdout",
          "output_type": "stream",
          "text": [
            "Best parameters are:  {'n_neighbors': 1}\n",
            "Best estimator is:  KNeighborsClassifier(n_neighbors=1)\n",
            "Scores and accuracies are:\n",
            "\n",
            "Accuracy is: 0.8742413207089099\n",
            "ROC is: 0.7425525075403047\n",
            "F score is: 0.5080721747388414\n",
            "Precision is: 0.4568744662681469\n",
            "Recall is: 0.5721925133689839\n"
          ]
        }
      ],
      "source": [
        "optimal_model = grid_search.best_estimator_\n",
        "\n",
        "print(\"Best parameters are: \", grid_search.best_params_)\n",
        "print(\"Best estimator is: \", grid_search.best_estimator_)\n",
        "print('Scores and accuracies are:')\n",
        "print()\n",
        "\n",
        "testSet_y_pred = optimal_model.predict(testSet_x_prep)\n",
        "report(testSet_y_labels, testSet_y_pred)"
      ]
    },
    {
      "cell_type": "markdown",
      "metadata": {
        "id": "MtKu-hRNwBtI"
      },
      "source": [
        "## Decision Tree"
      ]
    },
    {
      "cell_type": "code",
      "execution_count": 36,
      "metadata": {
        "colab": {
          "base_uri": "https://localhost:8080/"
        },
        "id": "amKOl5vwwFfn",
        "outputId": "0c4de4e8-522a-4530-dfbd-2531def4940c"
      },
      "outputs": [
        {
          "data": {
            "text/plain": [
              "DecisionTreeClassifier(random_state=0)"
            ]
          },
          "execution_count": 36,
          "metadata": {},
          "output_type": "execute_result"
        }
      ],
      "source": [
        "dtree_cls = DecisionTreeClassifier(random_state=0)\n",
        "dtree_cls.fit(train_set_x_smote_prep, train_set_y_smote_prep)"
      ]
    },
    {
      "cell_type": "code",
      "execution_count": 37,
      "metadata": {
        "id": "9qvnKbBawPc5"
      },
      "outputs": [],
      "source": [
        "testSet_y_pred = dtree_cls.predict(testSet_x_prep)"
      ]
    },
    {
      "cell_type": "code",
      "execution_count": 38,
      "metadata": {
        "colab": {
          "base_uri": "https://localhost:8080/"
        },
        "id": "8x_ogdiTwR4V",
        "outputId": "d7b3955e-c48f-4ae0-e60e-ab50a55a3777"
      },
      "outputs": [
        {
          "name": "stdout",
          "output_type": "stream",
          "text": [
            "Accuracy is: 0.8787327021121631\n",
            "ROC is: 0.7436868300405444\n",
            "F score is: 0.5157537566650509\n",
            "Precision is: 0.4716312056737589\n",
            "Recall is: 0.5689839572192513\n"
          ]
        }
      ],
      "source": [
        "report(testSet_y_labels, testSet_y_pred)"
      ]
    },
    {
      "cell_type": "markdown",
      "metadata": {
        "id": "BYPqKvAlwiYV"
      },
      "source": [
        "### Hypertuning Decision Tree"
      ]
    },
    {
      "cell_type": "code",
      "execution_count": null,
      "metadata": {
        "id": "6Sb3o5M9wkh3"
      },
      "outputs": [],
      "source": [
        "dtree = DecisionTreeClassifier()\n",
        "\n",
        "param_grid = {'max_depth':np.arange(3,20),\n",
        "              'min_samples_split': np.arange(3,20,1),\n",
        "             'min_samples_leaf':np.arange(3,30),\n",
        "              'min_samples_split' : np.arange(3,30),\n",
        "              'criterion': ('gini', 'entropy')}\n",
        "\n",
        "grid = GridSearchCV(dtree, param_grid, cv=3, scoring='accuracy', return_train_score=False, verbose=1)\n",
        "grid_search = grid.fit(train_set_x_smote_prep, train_set_y_smote_prep)"
      ]
    },
    {
      "cell_type": "code",
      "execution_count": null,
      "metadata": {
        "id": "NxtmzYxl5ZfY"
      },
      "outputs": [],
      "source": [
        "optimal_model = grid_search.best_estimator_\n",
        "\n",
        "print(\"Best parameters are: \", grid_search.best_params_)\n",
        "print(\"Best estimator is: \", grid_search.best_estimator_)\n",
        "print('Scores and accuracies are:')\n",
        "print()\n",
        "\n",
        "testSet_y_pred = optimal_model.predict(testSet_x_prep)\n",
        "report(testSet_y_labels, testSet_y_pred)"
      ]
    }
  ],
  "metadata": {
    "accelerator": "GPU",
    "colab": {
      "name": "bankMarketAnalysis.ipynb",
      "provenance": []
    },
    "gpuClass": "standard",
    "kernelspec": {
      "display_name": "Python 3.9.12 64-bit",
      "language": "python",
      "name": "python3"
    },
    "language_info": {
      "name": "python",
      "version": "3.9.12"
    },
    "vscode": {
      "interpreter": {
        "hash": "b0fa6594d8f4cbf19f97940f81e996739fb7646882a419484c72d19e05852a7e"
      }
    }
  },
  "nbformat": 4,
  "nbformat_minor": 0
}
